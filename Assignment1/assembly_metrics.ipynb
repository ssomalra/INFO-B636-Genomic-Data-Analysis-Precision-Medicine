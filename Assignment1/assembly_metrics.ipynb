{
 "cells": [
  {
   "cell_type": "code",
   "execution_count": 2,
   "id": "06f72e52",
   "metadata": {},
   "outputs": [
    {
     "name": "stdout",
     "output_type": "stream",
     "text": [
      "Number of Contigs: 559\n",
      "Longest Contig: 753063\n",
      "Total Length: 11575071\n",
      "N50: 133509\n",
      "None\n"
     ]
    }
   ],
   "source": [
    "def count_contigs(fasta_file):\n",
    "    contig_lengths = []\n",
    "\n",
    "    with open(fasta_file, \"r\") as file:\n",
    "        lines = file.readlines()\n",
    "        for line in lines:\n",
    "            # check if the line starts with '>'\n",
    "            if line.startswith(\">\"):\n",
    "                header = line.strip()\n",
    "                length = int(header.split(\"_\")[-1]) # extracting the length of the contig\n",
    "                contig_lengths.append(length)\n",
    "            \n",
    "    sorted_contig_lengths = sorted(contig_lengths, reverse=True)\n",
    "\n",
    "    num_contigs = len(sorted_contig_lengths)\n",
    "    longest_contig = sorted_contig_lengths[0]\n",
    "    total_length = sum(sorted_contig_lengths)\n",
    "    \n",
    "    n50 = None\n",
    "    current_sum = 0\n",
    "    \n",
    "    for length in sorted_contig_lengths:\n",
    "        current_sum += length\n",
    "        if current_sum >= total_length / 2:\n",
    "            n50 = length\n",
    "            break\n",
    "    \n",
    "    print('Number of Contigs:', num_contigs)\n",
    "    print('Longest Contig:', longest_contig)\n",
    "    print('Total Length:', total_length)\n",
    "    print('N50:', n50)\n",
    "\n",
    "print(count_contigs(\"oases_transcripts/95_transcripts.fa\"))"
   ]
  },
  {
   "cell_type": "code",
   "execution_count": null,
   "id": "34b0b020",
   "metadata": {},
   "outputs": [],
   "source": []
  }
 ],
 "metadata": {
  "kernelspec": {
   "display_name": "Python 3 (ipykernel)",
   "language": "python",
   "name": "python3"
  },
  "language_info": {
   "codemirror_mode": {
    "name": "ipython",
    "version": 3
   },
   "file_extension": ".py",
   "mimetype": "text/x-python",
   "name": "python",
   "nbconvert_exporter": "python",
   "pygments_lexer": "ipython3",
   "version": "3.8.8"
  }
 },
 "nbformat": 4,
 "nbformat_minor": 5
}
